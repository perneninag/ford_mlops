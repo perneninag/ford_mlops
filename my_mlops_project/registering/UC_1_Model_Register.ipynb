{
 "cells": [
  {
   "cell_type": "markdown",
   "metadata": {
    "application/vnd.databricks.v1+cell": {
     "cellMetadata": {
      "byteLimit": 2048000,
      "rowLimit": 10000
     },
     "inputWidgets": {},
     "nuid": "b73e1bf5-dad3-46c7-adc9-b96f644163ae",
     "showTitle": false,
     "tableResultSettingsMap": {},
     "title": ""
    }
   },
   "source": [
    "### Step 1—Set Up Your Environment"
   ]
  },
  {
   "cell_type": "code",
   "execution_count": 0,
   "metadata": {
    "application/vnd.databricks.v1+cell": {
     "cellMetadata": {
      "byteLimit": 2048000,
      "rowLimit": 10000
     },
     "inputWidgets": {},
     "nuid": "422d77e9-b4af-4cf5-8681-611a9b12ae84",
     "showTitle": false,
     "tableResultSettingsMap": {},
     "title": ""
    }
   },
   "outputs": [],
   "source": [
    "%python\n",
    "import os\n",
    "\n",
    "# Unset SPARK_HOME if it is set\n",
    "if 'SPARK_HOME' in os.environ:\n",
    "    del os.environ['SPARK_HOME']\n",
    "\n",
    "# Install the package\n",
    "%pip install databricks.automl-runtime"
   ]
  },
  {
   "cell_type": "code",
   "execution_count": 0,
   "metadata": {
    "application/vnd.databricks.v1+cell": {
     "cellMetadata": {
      "byteLimit": 2048000,
      "rowLimit": 10000
     },
     "inputWidgets": {},
     "nuid": "c7f6dd86-0c80-4b9c-885e-3f5073d3e035",
     "showTitle": false,
     "tableResultSettingsMap": {},
     "title": ""
    }
   },
   "outputs": [],
   "source": [
    "%restart_python"
   ]
  },
  {
   "cell_type": "code",
   "execution_count": 0,
   "metadata": {
    "application/vnd.databricks.v1+cell": {
     "cellMetadata": {
      "byteLimit": 2048000,
      "rowLimit": 10000
     },
     "inputWidgets": {},
     "nuid": "7fa61a36-3723-4123-b50f-18dca50c9a65",
     "showTitle": false,
     "tableResultSettingsMap": {},
     "title": ""
    }
   },
   "outputs": [],
   "source": [
    "# Check if SPARK_HOME is set to a conflicting version\n",
    "import os\n",
    "if 'SPARK_HOME' in os.environ:\n",
    "    del os.environ['SPARK_HOME']\n",
    "\n",
    "# Install the databricks-automl-runtime package\n",
    "\n",
    "%pip install databricks-feature-engineering"
   ]
  },
  {
   "cell_type": "code",
   "execution_count": 0,
   "metadata": {
    "application/vnd.databricks.v1+cell": {
     "cellMetadata": {
      "byteLimit": 2048000,
      "rowLimit": 10000
     },
     "inputWidgets": {},
     "nuid": "db719dc6-074a-4f42-b59d-2b68600b6241",
     "showTitle": false,
     "tableResultSettingsMap": {},
     "title": ""
    }
   },
   "outputs": [],
   "source": [
    "%restart_python"
   ]
  },
  {
   "cell_type": "code",
   "execution_count": 0,
   "metadata": {
    "application/vnd.databricks.v1+cell": {
     "cellMetadata": {
      "byteLimit": 2048000,
      "rowLimit": 10000
     },
     "inputWidgets": {},
     "nuid": "dbbf2d7a-b0b6-4221-8929-5c45e8159114",
     "showTitle": false,
     "tableResultSettingsMap": {},
     "title": ""
    }
   },
   "outputs": [],
   "source": [
    "%restart_python"
   ]
  },
  {
   "cell_type": "code",
   "execution_count": 0,
   "metadata": {
    "application/vnd.databricks.v1+cell": {
     "cellMetadata": {
      "byteLimit": 2048000,
      "rowLimit": 10000
     },
     "inputWidgets": {},
     "nuid": "041eccef-5649-42ba-979d-a43f17b1070b",
     "showTitle": false,
     "tableResultSettingsMap": {},
     "title": ""
    }
   },
   "outputs": [],
   "source": [
    "%python\n",
    "import os\n",
    "\n",
    "os.environ[\"MLFLOW_TRACKING_URI\"] = \"databricks\""
   ]
  },
  {
   "cell_type": "code",
   "execution_count": 0,
   "metadata": {
    "application/vnd.databricks.v1+cell": {
     "cellMetadata": {
      "byteLimit": 2048000,
      "rowLimit": 10000
     },
     "inputWidgets": {},
     "nuid": "911303bb-8060-4334-8158-475c1a9a6e32",
     "showTitle": false,
     "tableResultSettingsMap": {},
     "title": ""
    }
   },
   "outputs": [],
   "source": [
    "%python\n",
    "import mlflow\n",
    "mlflow.set_tracking_uri(\"databricks\")"
   ]
  },
  {
   "cell_type": "code",
   "execution_count": 0,
   "metadata": {
    "application/vnd.databricks.v1+cell": {
     "cellMetadata": {
      "byteLimit": 2048000,
      "rowLimit": 10000
     },
     "inputWidgets": {},
     "nuid": "487d0690-a50e-4e45-a363-854424155a9b",
     "showTitle": false,
     "tableResultSettingsMap": {},
     "title": ""
    }
   },
   "outputs": [],
   "source": [
    "# Retrieve the Databricks workspace URL\n",
    "workspace_url = spark.conf.get(\"spark.databricks.workspaceUrl\")\n",
    "print(workspace_url)"
   ]
  },
  {
   "cell_type": "code",
   "execution_count": 0,
   "metadata": {
    "application/vnd.databricks.v1+cell": {
     "cellMetadata": {
      "byteLimit": 2048000,
      "rowLimit": 10000
     },
     "inputWidgets": {},
     "nuid": "9cd66448-e301-4c1e-8afb-32d4f3cd4542",
     "showTitle": false,
     "tableResultSettingsMap": {},
     "title": ""
    }
   },
   "outputs": [],
   "source": [
    "%python\n",
    "from databricks.feature_store import FeatureStoreClient#from databricks.automl_runtime import Forecast\n",
    "from databricks.automl_runtime import forecast\n",
    "import mlflow"
   ]
  },
  {
   "cell_type": "code",
   "execution_count": 0,
   "metadata": {
    "application/vnd.databricks.v1+cell": {
     "cellMetadata": {
      "byteLimit": 2048000,
      "rowLimit": 10000
     },
     "inputWidgets": {},
     "nuid": "1e3f2ce0-66a0-4dcb-b805-91d5049fae61",
     "showTitle": false,
     "tableResultSettingsMap": {},
     "title": ""
    }
   },
   "outputs": [],
   "source": [
    "pip install databricks-automl-runtime"
   ]
  },
  {
   "cell_type": "code",
   "execution_count": 0,
   "metadata": {
    "application/vnd.databricks.v1+cell": {
     "cellMetadata": {
      "byteLimit": 2048000,
      "rowLimit": 10000
     },
     "inputWidgets": {},
     "nuid": "f392dffa-49bb-41aa-96fa-d0476ea4fc85",
     "showTitle": false,
     "tableResultSettingsMap": {},
     "title": ""
    }
   },
   "outputs": [],
   "source": [
    "from databricks.automl import forecast"
   ]
  },
  {
   "cell_type": "code",
   "execution_count": 0,
   "metadata": {
    "application/vnd.databricks.v1+cell": {
     "cellMetadata": {
      "byteLimit": 2048000,
      "rowLimit": 10000
     },
     "inputWidgets": {},
     "nuid": "a3d2a35a-e036-443e-918e-a000f870e36e",
     "showTitle": false,
     "tableResultSettingsMap": {},
     "title": ""
    }
   },
   "outputs": [],
   "source": [
    "%python\n",
    "from databricks.feature_store import FeatureStoreClient\n",
    "from databricks.automl import forecast\n",
    "import mlflow\n",
    "\n",
    "# Set the MLflow model registry URI\n",
    "mlflow.set_registry_uri(\"databricks\")\n",
    "\n",
    "# Load data from Unity Catalog\n",
    "fs = FeatureStoreClient()\n",
    "df = fs.read_table(\"kajal.forecast_schema.mofj_interest_rate_japan_feature\")\n",
    "\n",
    "# Run AutoML for forecasting\n",
    "summary = forecast(\n",
    "    dataset=df,\n",
    "    target_col=\"Year_1\",\n",
    "    time_col=\"Time_period\",\n",
    "    horizon=30,\n",
    "    frequency=\"d\",\n",
    "    timeout_minutes=120,\n",
    "    primary_metric=\"smape\"\n",
    ")\n",
    "\n",
    "display(summary)"
   ]
  },
  {
   "cell_type": "code",
   "execution_count": 0,
   "metadata": {
    "application/vnd.databricks.v1+cell": {
     "cellMetadata": {
      "byteLimit": 2048000,
      "rowLimit": 10000
     },
     "inputWidgets": {},
     "nuid": "fe6c880d-f079-4c10-bed1-48f8bcaaa4ab",
     "showTitle": false,
     "tableResultSettingsMap": {},
     "title": ""
    }
   },
   "outputs": [],
   "source": [
    "%python\n",
    "from databricks.feature_store import FeatureStoreClient\n",
    "from databricks.automl import forecast\n",
    "import mlflow\n",
    "\n",
    "# Set the MLflow model registry URI\n",
    "mlflow.set_registry_uri(\"databricks\")\n",
    "\n",
    "# Load data from Unity Catalog\n",
    "fs = FeatureStoreClient()\n",
    "df = fs.read_table(\"kajal.forecast_schema.mofj_interest_rate_japan_feature\")\n",
    "\n",
    "# Run AutoML for forecasting\n",
    "summary = forecast(\n",
    "    dataset=df,\n",
    "    target_col=\"Year_1\",\n",
    "    time_col=\"Time_period\",\n",
    "    horizon=30,\n",
    "    frequency=\"d\",\n",
    "    timeout_minutes=120,\n",
    "    primary_metric=\"smape\"\n",
    ")\n",
    "\n",
    "display(summary)"
   ]
  },
  {
   "cell_type": "code",
   "execution_count": 0,
   "metadata": {
    "application/vnd.databricks.v1+cell": {
     "cellMetadata": {
      "byteLimit": 2048000,
      "rowLimit": 10000
     },
     "inputWidgets": {},
     "nuid": "f7945507-8936-448c-b23d-05aaa0cfe869",
     "showTitle": false,
     "tableResultSettingsMap": {},
     "title": ""
    }
   },
   "outputs": [],
   "source": [
    "%python\n",
    "from databricks.feature_store import FeatureStoreClient\n",
    "from databricks.automl_runtime.forecast import Forecast\n",
    "\n",
    "import mlflow\n",
    "\n",
    "# Set the MLflow model registry URI\n",
    "mlflow.set_registry_uri(\"databricks-mlflow://dbc-325dd65c-6716.cloud.databricks.com\")\n",
    "\n",
    "# Load data from Unity Catalog\n",
    "fs = FeatureStoreClient()\n",
    "df = fs.read_table(\"kajal.forecast_schema.mofj_interest_rate_japan_feature\")\n",
    "\n",
    "# Run AutoML for forecasting\n",
    "summary = Forecast(\n",
    "    df,\n",
    "    target_col=\"Year_1\",\n",
    "    time_col=\"Time_period\",\n",
    "    horizon=30,\n",
    "    frequency=\"d\",\n",
    "    timeout_minutes=120,\n",
    "    primary_metric=\"mdape\",\n",
    "    output_database=\"default\"\n",
    ")\n",
    "\n",
    "display(summary)"
   ]
  },
  {
   "cell_type": "code",
   "execution_count": 0,
   "metadata": {
    "application/vnd.databricks.v1+cell": {
     "cellMetadata": {
      "byteLimit": 2048000,
      "rowLimit": 10000
     },
     "inputWidgets": {},
     "nuid": "dba88558-0222-4447-91bd-3fc314da2ece",
     "showTitle": false,
     "tableResultSettingsMap": {},
     "title": ""
    }
   },
   "outputs": [],
   "source": [
    "how to serve model as endpoint in databricks"
   ]
  },
  {
   "cell_type": "code",
   "execution_count": 0,
   "metadata": {
    "application/vnd.databricks.v1+cell": {
     "cellMetadata": {},
     "inputWidgets": {},
     "nuid": "c4a9eafc-e0a3-497a-a441-ceb51dae1a8f",
     "showTitle": false,
     "tableResultSettingsMap": {},
     "title": ""
    }
   },
   "outputs": [],
   "source": []
  },
  {
   "cell_type": "code",
   "execution_count": 0,
   "metadata": {
    "application/vnd.databricks.v1+cell": {
     "cellMetadata": {},
     "inputWidgets": {},
     "nuid": "aa6b6402-0ebd-4b26-8557-83febd2275ff",
     "showTitle": false,
     "tableResultSettingsMap": {},
     "title": ""
    }
   },
   "outputs": [],
   "source": [
    "import mlflow\n",
    "import mlflow.pyfunc\n",
    "\n",
    "\n",
    "# Log the model with mlflow\n",
    "with mlflow.start_run() as run:\n",
    "    mlflow.pyfunc.log_model(\"forecast_model\", python_model=ForecastModel())\n",
    "\n",
    "# Deploy the model as an endpoint\n",
    "model_uri = f\"runs:/{run.info.run_id}/forecast_model\"\n",
    "endpoint_name = \"forecast-model-endpoint\"\n",
    "\n",
    "# Create the endpoint\n",
    "mlflow.endpoints.create(endpoint_name, model_uri)"
   ]
  },
  {
   "cell_type": "code",
   "execution_count": 0,
   "metadata": {
    "application/vnd.databricks.v1+cell": {
     "cellMetadata": {},
     "inputWidgets": {},
     "nuid": "f0576e1a-3f80-4791-9bc8-4b8f82bcc18c",
     "showTitle": false,
     "tableResultSettingsMap": {},
     "title": ""
    }
   },
   "outputs": [],
   "source": [
    "import mlflow\n",
    "import mlflow.pyfunc\n",
    "\n",
    "# Define the forecast model class\n",
    "class ForecastModel(mlflow.pyfunc.PythonModel):\n",
    "    def load_context(self, context):\n",
    "        import pandas as pd\n",
    "        from statsmodels.tsa.holtwinters import ExponentialSmoothing\n",
    "        \n",
    "        self.model = ExponentialSmoothing\n",
    "\n",
    "    def predict(self, context, model_input):\n",
    "        model = self.model(model_input, seasonal='add', seasonal_periods=12).fit()\n",
    "        forecast = model.forecast(steps=12)\n",
    "        return forecast\n",
    "\n",
    "# Log the model with mlflow\n",
    "with mlflow.start_run() as run:\n",
    "    mlflow.pyfunc.log_model(\"forecast_model\", python_model=ForecastModel())\n",
    "\n",
    "# Deploy the model as an endpoint\n",
    "model_uri = f\"runs:/{run.info.run_id}/forecast_model\"\n",
    "endpoint_name = \"forecast-model-endpoint\"\n",
    "\n",
    "# Create the endpoint\n",
    "mlflow.endpoints.create(endpoint_name, model_uri)"
   ]
  },
  {
   "cell_type": "code",
   "execution_count": 0,
   "metadata": {
    "application/vnd.databricks.v1+cell": {
     "cellMetadata": {
      "byteLimit": 2048000,
      "rowLimit": 10000
     },
     "inputWidgets": {},
     "nuid": "8aacb200-5588-407e-b559-53249d09c57e",
     "showTitle": false,
     "tableResultSettingsMap": {},
     "title": ""
    }
   },
   "outputs": [],
   "source": [
    "pip install mlflow"
   ]
  },
  {
   "cell_type": "code",
   "execution_count": 0,
   "metadata": {
    "application/vnd.databricks.v1+cell": {
     "cellMetadata": {
      "byteLimit": 2048000,
      "rowLimit": 10000
     },
     "inputWidgets": {},
     "nuid": "68f7bc38-66bc-47bc-acaa-588cb46ce6e2",
     "showTitle": false,
     "tableResultSettingsMap": {},
     "title": ""
    }
   },
   "outputs": [],
   "source": [
    "%restart_python "
   ]
  },
  {
   "cell_type": "code",
   "execution_count": 0,
   "metadata": {
    "application/vnd.databricks.v1+cell": {
     "cellMetadata": {
      "byteLimit": 2048000,
      "rowLimit": 10000
     },
     "inputWidgets": {},
     "nuid": "0bebfbca-c0d3-4bf5-b7ec-7c6392c22aec",
     "showTitle": false,
     "tableResultSettingsMap": {},
     "title": ""
    }
   },
   "outputs": [],
   "source": [
    "import mlflow.pyfunc"
   ]
  },
  {
   "cell_type": "code",
   "execution_count": 0,
   "metadata": {
    "application/vnd.databricks.v1+cell": {
     "cellMetadata": {
      "byteLimit": 2048000,
      "rowLimit": 10000
     },
     "inputWidgets": {},
     "nuid": "a2a2359e-6918-457d-b60d-379289683066",
     "showTitle": false,
     "tableResultSettingsMap": {},
     "title": ""
    }
   },
   "outputs": [],
   "source": [
    "#import mlflow.pyfunc\n",
    "\n",
    "# Load the registered model\n",
    "model_name = \"forecast_model_uc1\"\n",
    "model_version = 1\n",
    "model_uri = f\"models:/{model_name}/{model_version}\"\n",
    "\n",
    "# Deploy the model as an endpoint\n",
    "endpoint_name = \"forecast-model-endpoint_uc1\"\n",
    "mlflow.endpoints.create(endpoint_name, model_uri)\n"
   ]
  },
  {
   "cell_type": "code",
   "execution_count": 0,
   "metadata": {
    "application/vnd.databricks.v1+cell": {
     "cellMetadata": {
      "byteLimit": 2048000,
      "rowLimit": 10000
     },
     "inputWidgets": {},
     "nuid": "8ce92f16-2c22-4bfa-8dad-4f85fa21af71",
     "showTitle": false,
     "tableResultSettingsMap": {},
     "title": ""
    }
   },
   "outputs": [],
   "source": [
    "\n",
    "from mlflow.deployments import get_deploy_client\n",
    "\n",
    "client = get_deploy_client(\"databricks\")\n",
    "endpoint = client.create_endpoint(\n",
    "    name=\"forecast_endpoint_uc1\",\n",
    "    config={\n",
    "        \"served_entities\": [\n",
    "            {\n",
    "                \"name\": \"kajal\",\n",
    "                \"entity_name\": \"kajal.forecast_schema.forecast_model_uc1\",\n",
    "                \"entity_version\": \"3\",\n",
    "                \"workload_size\": \"Small\",\n",
    "                \"scale_to_zero_enabled\": True\n",
    "            }\n",
    "        ],\n",
    "        \"traffic_config\": {\n",
    "            \"routes\": [\n",
    "                {\n",
    "                    \"served_model_name\": \"kajal\",\n",
    "                    \"traffic_percentage\": 100\n",
    "                }\n",
    "            ]\n",
    "        }\n",
    "    }\n",
    ")"
   ]
  },
  {
   "cell_type": "code",
   "execution_count": 0,
   "metadata": {
    "application/vnd.databricks.v1+cell": {
     "cellMetadata": {},
     "inputWidgets": {},
     "nuid": "dc822670-7c03-4836-b104-d29ce478bdae",
     "showTitle": false,
     "tableResultSettingsMap": {},
     "title": ""
    }
   },
   "outputs": [],
   "source": [
    "%python\n",
    "import mlflow.pyfunc\n",
    "import mlflow\n",
    "\n",
    "# Set the MLflow tracking URI to Databricks\n",
    "mlflow.set_tracking_uri(\"databricks\")\n",
    "\n",
    "# Load the registered model\n",
    "model_name = \"forecast_model_uc1\"\n",
    "model_version = 1\n",
    "model_uri = f\"models:/{model_name}/{model_version}\"\n",
    "\n",
    "# Deploy the model as an endpoint\n",
    "endpoint_name = \"forecast-model-endpoint_uc1\"\n",
    "\n",
    "# Create the endpoint using the Databricks REST API\n",
    "import requests\n",
    "import json\n",
    "\n",
    "# Replace with your Databricks workspace URL and token\n",
    "databricks_instance = \"https://<your-databricks-instance>\"\n",
    "token = \"<your-databricks-token>\"\n",
    "\n",
    "headers = {\n",
    "    \"Authorization\": f\"Bearer {token}\",\n",
    "    \"Content-Type\": \"application/json\"\n",
    "}\n",
    "\n",
    "endpoint_url = f\"{databricks_instance}/api/2.0/mlflow/endpoints/create\"\n",
    "\n",
    "data = {\n",
    "    \"name\": endpoint_name,\n",
    "    \"config\": {\n",
    "        \"served_models\": [\n",
    "            {\n",
    "                \"model_name\": model_name,\n",
    "                \"model_version\": model_version,\n",
    "                \"workload_size\": \"Small\",\n",
    "                \"scale_to_zero_enabled\": True\n",
    "            }\n",
    "        ]\n",
    "    }\n",
    "}\n",
    "\n",
    "response = requests.post(endpoint_url, headers=headers, data=json.dumps(data))\n",
    "\n",
    "if response.status_code == 200:\n",
    "    print(\"Endpoint created successfully\")\n",
    "else:\n",
    "    print(f\"Failed to create endpoint: {response.text}\")"
   ]
  },
  {
   "cell_type": "code",
   "execution_count": 0,
   "metadata": {
    "application/vnd.databricks.v1+cell": {
     "cellMetadata": {},
     "inputWidgets": {},
     "nuid": "c3223737-6b01-48f1-9531-1cf879f448ba",
     "showTitle": false,
     "tableResultSettingsMap": {},
     "title": ""
    }
   },
   "outputs": [],
   "source": []
  },
  {
   "cell_type": "code",
   "execution_count": 0,
   "metadata": {
    "application/vnd.databricks.v1+cell": {
     "cellMetadata": {
      "byteLimit": 2048000,
      "rowLimit": 10000
     },
     "inputWidgets": {},
     "nuid": "faa21c1c-b8e9-4b66-bf2d-cfb002cb92c0",
     "showTitle": false,
     "tableResultSettingsMap": {},
     "title": ""
    }
   },
   "outputs": [],
   "source": [
    "import mlflow\n",
    "import requests\n",
    "import json\n",
    "\n",
    "# Set the MLflow tracking URI to Databricks\n",
    "mlflow.set_tracking_uri(\"databricks\")\n",
    "\n",
    "# Load the registered model\n",
    "model_name = \"forecast_model_uc1\"\n",
    "model_version = 1\n",
    "model_uri = f\"models:/{model_name}/{model_version}\"\n",
    "\n",
    "# Deploy the model as an endpoint\n",
    "endpoint_name = \"forecast-model-endpoint_uc1\"\n",
    "\n",
    "# Use Databricks CLI to get the workspace URL\n",
    "databricks_instance = \"https://dbc-325dd65c-6716.cloud.databricks.com\"\n",
    "\n",
    "# Use Databricks CLI to get the access token\n",
    "# Ensure you have Databricks CLI installed and configured\n",
    "# You can configure it using `databricks configure --token`\n",
    "headers = {\n",
    "    \"Authorization\": f\"Bearer {os.getenv('DATABRICKS_TOKEN')}\",\n",
    "    \"Content-Type\": \"application/json\"\n",
    "}\n",
    "\n",
    "endpoint_url = f\"{databricks_instance}/api/2.0/mlflow/endpoints/create\"\n",
    "\n",
    "data = {\n",
    "    \"name\": endpoint_name,\n",
    "    \"config\": {\n",
    "        \"served_models\": [\n",
    "            {\n",
    "                \"model_name\": model_name,\n",
    "                \"model_version\": model_version,\n",
    "                \"workload_size\": \"Small\",\n",
    "                \"scale_to_zero_enabled\": True\n",
    "            }\n",
    "        ]\n",
    "    }\n",
    "}\n",
    "\n",
    "response = requests.post(endpoint_url, headers=headers, data=json.dumps(data))\n",
    "\n",
    "if response.status_code == 200:\n",
    "    print(\"Endpoint created successfully\")\n",
    "else:\n",
    "    print(f\"Failed to create endpoint: {response.text}\")"
   ]
  },
  {
   "cell_type": "code",
   "execution_count": 0,
   "metadata": {
    "application/vnd.databricks.v1+cell": {
     "cellMetadata": {
      "byteLimit": 2048000,
      "rowLimit": 10000
     },
     "inputWidgets": {},
     "nuid": "31c769d3-91f3-4a7e-838a-b3c7adc9dbd5",
     "showTitle": false,
     "tableResultSettingsMap": {},
     "title": ""
    }
   },
   "outputs": [],
   "source": [
    "dbutils.notebook.entry_point.getDbutils().notebook().getContext().apiUrl().get()"
   ]
  },
  {
   "cell_type": "code",
   "execution_count": 0,
   "metadata": {
    "application/vnd.databricks.v1+cell": {
     "cellMetadata": {
      "byteLimit": 2048000,
      "rowLimit": 10000
     },
     "inputWidgets": {},
     "nuid": "d17193d4-d85c-4c16-8cf8-7da131ab767e",
     "showTitle": false,
     "tableResultSettingsMap": {},
     "title": ""
    }
   },
   "outputs": [],
   "source": [
    "%python\n",
    "import mlflow\n",
    "import requests\n",
    "import json\n",
    "import os  # Import the os module\n",
    "\n",
    "# Set the MLflow tracking URI to Databricks\n",
    "mlflow.set_tracking_uri(\"databricks\")\n",
    "\n",
    "# Load the registered model\n",
    "model_name = \"forecast_model_uc1\"\n",
    "model_version = 1\n",
    "model_uri = f\"models:/{model_name}/{model_version}\"\n",
    "\n",
    "# Deploy the model as an endpoint\n",
    "endpoint_name = \"forecast-model-endpoint_uc1\"\n",
    "\n",
    "# Use Databricks CLI to get the workspace URL\n",
    "databricks_instance = \"https://dbc-325dd65c-6716.cloud.databricks.com\"\n",
    "\n",
    "# Use Databricks CLI to get the access token\n",
    "# Ensure you have Databricks CLI installed and configured\n",
    "# You can configure it using `databricks configure --token`\n",
    "headers = {\n",
    "    \"Authorization\": f\"Bearer {os.getenv('databricks_token')}\",\n",
    "    \"Content-Type\": \"application/json\"\n",
    "}\n",
    "\n",
    "endpoint_url = f\"{databricks_instance}/api/2.0/mlflow/endpoints/create\"\n",
    "\n",
    "data = {\n",
    "    \"name\": endpoint_name,\n",
    "    \"config\": {\n",
    "        \"served_models\": [\n",
    "            {\n",
    "                \"model_name\": model_name,\n",
    "                \"model_version\": model_version,\n",
    "                \"workload_size\": \"Small\",\n",
    "                \"scale_to_zero_enabled\": True\n",
    "            }\n",
    "        ]\n",
    "    }\n",
    "}\n",
    "\n",
    "response = requests.post(endpoint_url, headers=headers, data=json.dumps(data))\n",
    "\n",
    "if response.status_code == 200:\n",
    "    print(\"Endpoint created successfully\")\n",
    "else:\n",
    "    print(f\"Failed to create endpoint: {response.text}\")"
   ]
  },
  {
   "cell_type": "code",
   "execution_count": 0,
   "metadata": {
    "application/vnd.databricks.v1+cell": {
     "cellMetadata": {
      "byteLimit": 2048000,
      "rowLimit": 10000
     },
     "inputWidgets": {},
     "nuid": "e8d1f724-a4ac-493d-bdf4-0e623a131e58",
     "showTitle": false,
     "tableResultSettingsMap": {},
     "title": ""
    }
   },
   "outputs": [],
   "source": [
    "import os\n",
    "\n",
    "# Retrieve the Databricks access token from environment variables\n",
    "databricks_token = os.getenv('DATABRICKS_TOKEN')\n",
    "\n",
    "# Display the token\n",
    "display(databricks_token)"
   ]
  },
  {
   "cell_type": "code",
   "execution_count": 0,
   "metadata": {
    "application/vnd.databricks.v1+cell": {
     "cellMetadata": {
      "byteLimit": 2048000,
      "rowLimit": 10000
     },
     "inputWidgets": {},
     "nuid": "d4c71c3a-1a42-47e4-9e16-12ddfc85c1c8",
     "showTitle": false,
     "tableResultSettingsMap": {},
     "title": ""
    }
   },
   "outputs": [],
   "source": [
    "display(databricks_token)"
   ]
  },
  {
   "cell_type": "code",
   "execution_count": 0,
   "metadata": {
    "application/vnd.databricks.v1+cell": {
     "cellMetadata": {
      "byteLimit": 2048000,
      "rowLimit": 10000
     },
     "inputWidgets": {},
     "nuid": "5cec6c0e-3d5b-487a-a23b-38498402a2d5",
     "showTitle": false,
     "tableResultSettingsMap": {},
     "title": ""
    }
   },
   "outputs": [],
   "source": [
    "import mlflow\n",
    "from mlflow.deployments import get_deploy_client\n",
    "\n",
    "# Set the MLflow tracking URI to Databricks\n",
    "mlflow.set_tracking_uri(\"databricks\")\n",
    "\n",
    "# Load the registered model\n",
    "model_name = \"forecast_model_uc1\"\n",
    "model_version = 1\n",
    "model_uri = f\"models:/{model_name}/{model_version}\"\n",
    "\n",
    "# Deploy the model as an endpoint\n",
    "endpoint_name = \"forecast-model-endpoint_uc1\"\n",
    "\n",
    "# Get the deploy client\n",
    "client = get_deploy_client(\"databricks\")\n",
    "print(client)\n",
    "\n",
    "# Create the endpoint\n",
    "client.create_deployment(\n",
    "    name=endpoint_name,\n",
    "    model_uri=model_uri,\n",
    "    config={\n",
    "        \"workload_size\": \"Small\",\n",
    "        \"scale_to_zero_enabled\": True\n",
    "    }\n",
    ")\n",
    "\n",
    "print(\"Endpoint created successfully\")"
   ]
  },
  {
   "cell_type": "code",
   "execution_count": 0,
   "metadata": {
    "application/vnd.databricks.v1+cell": {
     "cellMetadata": {
      "byteLimit": 2048000,
      "rowLimit": 10000
     },
     "inputWidgets": {},
     "nuid": "73b51d13-acc0-4e5c-9005-b76d08c2c0a2",
     "showTitle": false,
     "tableResultSettingsMap": {},
     "title": ""
    }
   },
   "outputs": [],
   "source": [
    "import mlflow"
   ]
  },
  {
   "cell_type": "code",
   "execution_count": 0,
   "metadata": {
    "application/vnd.databricks.v1+cell": {
     "cellMetadata": {
      "byteLimit": 2048000,
      "rowLimit": 10000
     },
     "inputWidgets": {},
     "nuid": "db39db98-4bb5-484d-831f-2682d6eee157",
     "showTitle": false,
     "tableResultSettingsMap": {},
     "title": ""
    }
   },
   "outputs": [],
   "source": [
    "mlflow.register_model(\n",
    "  \"runs:/65139fb591d449199a6f348948cdd3bb/model\", \"kajal.forecast_schema.forecast_model_uc1\"\n",
    ")"
   ]
  },
  {
   "cell_type": "code",
   "execution_count": 0,
   "metadata": {
    "application/vnd.databricks.v1+cell": {
     "cellMetadata": {},
     "inputWidgets": {},
     "nuid": "c40785a2-08f7-4d81-a3d5-65ef8c464b46",
     "showTitle": false,
     "tableResultSettingsMap": {},
     "title": ""
    }
   },
   "outputs": [],
   "source": [
    "model_uri = 'runs:/65139fb591d449199a6f348948cdd3bb/model'"
   ]
  }
 ],
 "metadata": {
  "application/vnd.databricks.v1+notebook": {
   "computePreferences": null,
   "dashboards": [],
   "environmentMetadata": {
    "base_environment": "",
    "environment_version": "2"
   },
   "inputWidgetPreferences": null,
   "language": "python",
   "notebookMetadata": {
    "pythonIndentUnit": 4
   },
   "notebookName": "UC_1_Model_Register",
   "widgets": {}
  },
  "language_info": {
   "name": "python"
  }
 },
 "nbformat": 4,
 "nbformat_minor": 0
}
